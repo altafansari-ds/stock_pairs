{
  "nbformat": 4,
  "nbformat_minor": 0,
  "metadata": {
    "colab": {
      "provenance": []
    },
    "kernelspec": {
      "name": "python3",
      "display_name": "Python 3"
    },
    "language_info": {
      "name": "python"
    }
  },
  "cells": [
    {
      "cell_type": "markdown",
      "source": [
        "Andrew works at a store. He has a large pile of socks that he must pair by color for sale. Given an array of integers representing the color of each sock, determine how many pairs of socks with matching colors there are.\n",
        "\n",
        "\n",
        "\n",
        "\n",
        "\n",
        "\n",
        "\n",
        "For example, there are n=7 socks with colors ar= [1,2,1,2,1,3,2]. There is one pair of color 1 and one of color 2. There are three odd socks left, one of each color. The number of pairs is 2.\n",
        "\n",
        "\n",
        "\n",
        "\n",
        "\n",
        "\n",
        "\n",
        "Function Description\n",
        "\n",
        "\n",
        "\n",
        "\n",
        "\n",
        "sockMerchant has the following parameter(s):\n",
        "\n",
        "\n",
        "\n",
        "\n",
        "\n",
        "n: the number of socks in the pile\n",
        "\n",
        "\n",
        "\n",
        "\n",
        "\n",
        "ar: the colors of each sock\n",
        "\n",
        "\n",
        "\n",
        "\n",
        "\n",
        "\n",
        "\n",
        "Input Format:\n",
        "The first line contains an integer n, the number of socks represented in ar. The second line contains n space-separated integers describing the colors ar[i] of the socks in the pile.\n",
        "\n",
        "\n",
        "\n",
        "\n",
        "\n",
        "\n",
        "\n",
        "Constraints\n",
        "\n",
        "\n",
        "\n",
        "\n",
        "\n",
        "1 <= n <= 100\n",
        "1 <= ar[i] <= 100 where 0 <= i < n\n",
        "\n",
        "\n",
        "\n",
        "\n",
        "\n",
        "Output Format\n",
        "Return the total number of matching pairs of socks that John can sell.\n",
        "Sample Input\n",
        "\n",
        "\n",
        "\n",
        "\n",
        "\n",
        "\n",
        "\n",
        "n: 9\n",
        "ar: 10 20 20 10 10 30 50 10 20\n",
        "Sample Output: 3"
      ],
      "metadata": {
        "id": "nzqifwTVWjwG"
      }
    },
    {
      "cell_type": "code",
      "source": [
        "def stock_pairs(n, ar):\n",
        "    ar1 = {}  # Dictionary to store the count of each color\n",
        "    pairs = 0\n",
        "\n",
        "    # Count the frequency of each color\n",
        "    for i in ar:\n",
        "        if i in ar1:\n",
        "            ar1[i] += 1\n",
        "        else:\n",
        "            ar1[i] = 1\n",
        "\n",
        "    # Calculate the number of pairs for each color\n",
        "    for j in ar1.values():\n",
        "        pairs += j // 2  # Integer division to get the number of pairs\n",
        "\n",
        "    return pairs\n",
        "\n",
        "\n"
      ],
      "metadata": {
        "id": "HI9DFL7fhOvw"
      },
      "execution_count": 15,
      "outputs": []
    },
    {
      "cell_type": "code",
      "source": [
        "result=stock_pairs(9,[10,20,20,10,10,30,50,10,20])\n",
        "print(\"the total number of pairs are\",result)"
      ],
      "metadata": {
        "colab": {
          "base_uri": "https://localhost:8080/"
        },
        "id": "4Ez0N_P_gbHJ",
        "outputId": "084fcdf6-c498-4f7f-9c3f-5c1e6ab0f44f"
      },
      "execution_count": 18,
      "outputs": [
        {
          "output_type": "stream",
          "name": "stdout",
          "text": [
            "the total number of pairs are 3\n"
          ]
        }
      ]
    },
    {
      "cell_type": "code",
      "source": [],
      "metadata": {
        "id": "4-35rr6wiMop"
      },
      "execution_count": null,
      "outputs": []
    }
  ]
}